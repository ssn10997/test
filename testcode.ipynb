{
 "cells": [
  {
   "cell_type": "code",
   "execution_count": 4,
   "id": "9473bec3",
   "metadata": {
    "ExecuteTime": {
     "end_time": "2022-04-11T06:42:32.690864Z",
     "start_time": "2022-04-11T06:42:18.114043Z"
    }
   },
   "outputs": [],
   "source": [
    "import os.path\n",
    "import numpy as np\n",
    "import tensorflow as tf\n",
    "import ktrain\n",
    "from ktrain import text"
   ]
  },
  {
   "cell_type": "code",
   "execution_count": 5,
   "id": "7df5732d",
   "metadata": {
    "ExecuteTime": {
     "end_time": "2022-04-11T06:49:39.282864Z",
     "start_time": "2022-04-11T06:45:36.089006Z"
    }
   },
   "outputs": [
    {
     "name": "stdout",
     "output_type": "stream",
     "text": [
      "Downloading data from http://ai.stanford.edu/~amaas/data/sentiment/aclImdb_v1.tar.gz\n",
      "84131840/84125825 [==============================] - 27s 0us/step\n",
      "84140032/84125825 [==============================] - 27s 0us/step\n",
      "C:\\Users\\ssn10\\.keras\\datasets\n",
      "C:\\Users\\ssn10\\.keras\\datasets\\aclImdb\n"
     ]
    }
   ],
   "source": [
    "dataset = tf.keras.utils.get_file(fname=\"aclImdb_v1.tar.gz\",origin=\"http://ai.stanford.edu/~amaas/data/sentiment/aclImdb_v1.tar.gz\",extract=True)\n",
    "IMDB_DATADIR = os.path.join(os.path.dirname(dataset), 'aclImdb')\n",
    "print(os.path.dirname(dataset))\n",
    "print(IMDB_DATADIR)"
   ]
  },
  {
   "cell_type": "code",
   "execution_count": null,
   "id": "c5d3dd7c",
   "metadata": {
    "ExecuteTime": {
     "start_time": "2022-04-11T06:50:58.138Z"
    }
   },
   "outputs": [],
   "source": [
    "(x_train, y_train), (x_test, y_test), preproc = text.texts_from_folder(datadir=IMDB_DATADIR,\n",
    "                       classes=['pos','neg'],\n",
    "                       maxlen=500,\n",
    "                       train_test_names=['train','test'],\n",
    "                       preprocess_mode='bert')"
   ]
  },
  {
   "cell_type": "code",
   "execution_count": null,
   "id": "6d74982e",
   "metadata": {},
   "outputs": [],
   "source": [
    "model = text.text_classifier(name='bert',\n",
    "                             train_data=(x_train, y_train),  \n",
    "                             preproc=preproc)"
   ]
  },
  {
   "cell_type": "code",
   "execution_count": null,
   "id": "15511b97",
   "metadata": {},
   "outputs": [],
   "source": [
    "learner = ktrain.get_learner(model=model,\n",
    "                             train_data=(x_train,y_train),\n",
    "                             val_data=(x_test, y_test),batch_size=6)\n",
    "                             learner.fit_onecycle(lr=2e-5,epochs=1)\n",
    "learner.fit_onecycle(lr=2e-5,epochs=1)"
   ]
  },
  {
   "cell_type": "code",
   "execution_count": null,
   "id": "12df436b",
   "metadata": {},
   "outputs": [],
   "source": []
  }
 ],
 "metadata": {
  "kernelspec": {
   "display_name": "Python 3 (ipykernel)",
   "language": "python",
   "name": "python3"
  },
  "language_info": {
   "codemirror_mode": {
    "name": "ipython",
    "version": 3
   },
   "file_extension": ".py",
   "mimetype": "text/x-python",
   "name": "python",
   "nbconvert_exporter": "python",
   "pygments_lexer": "ipython3",
   "version": "3.9.7"
  },
  "varInspector": {
   "cols": {
    "lenName": 16,
    "lenType": 16,
    "lenVar": 40
   },
   "kernels_config": {
    "python": {
     "delete_cmd_postfix": "",
     "delete_cmd_prefix": "del ",
     "library": "var_list.py",
     "varRefreshCmd": "print(var_dic_list())"
    },
    "r": {
     "delete_cmd_postfix": ") ",
     "delete_cmd_prefix": "rm(",
     "library": "var_list.r",
     "varRefreshCmd": "cat(var_dic_list()) "
    }
   },
   "types_to_exclude": [
    "module",
    "function",
    "builtin_function_or_method",
    "instance",
    "_Feature"
   ],
   "window_display": false
  }
 },
 "nbformat": 4,
 "nbformat_minor": 5
}
